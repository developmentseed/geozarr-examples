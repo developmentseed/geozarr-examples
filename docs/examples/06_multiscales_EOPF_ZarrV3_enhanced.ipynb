{
 "cells": [
  {
   "cell_type": "markdown",
   "metadata": {},
   "source": [
    "# Enhanced GeoZarr for EOPF: Full Multiscale Zarr V3 Store with RGB Visualization\n",
    "\n",
    "This enhanced notebook demonstrates how to transform EOPF (Earth Observation Processing Framework) Zarr stores into complete GeoZarr V3 compliant datasets with:\n",
    "\n",
    "- **Full EOPF structure preservation**: All resolution groups and variables\n",
    "- **Complete multiscale support**: COG-style overviews for all bands\n",
    "- **Enhanced visualization**: RGB composite plots using overview levels\n",
    "- **Modular code organization**: Most functionality moved to helper module\n",
    "\n",
    "Following COG (Cloud Optimized GeoTIFF) conventions, the overviews maintain the native projection and use /2 downsampling logic, addressing the gaps found in EOPF Zarr format to achieve full GeoZarr compliance."
   ]
  },
  {
   "cell_type": "markdown",
   "metadata": {},
   "source": [
    "## Setup and Data Loading"
   ]
  },
  {
   "cell_type": "code",
   "execution_count": null,
   "metadata": {},
   "outputs": [],
   "source": [
    "import os\n",
    "os.environ[\"ZARR_V3_EXPERIMENTAL_API\"] = \"1\"\n",
    "\n",
    "import json\n",
    "import cf_xarray  # noqa\n",
    "import dask.array as da\n",
    "import matplotlib.pyplot as plt\n",
    "import morecantile\n",
    "import numpy as np\n",
    "import panel\n",
    "import rasterio\n",
    "import numcodecs\n",
    "import rioxarray  # noqa\n",
    "import xarray as xr\n",
    "import zarr\n",
    "import dask\n",
    "from rio_tiler.io.xarray import XarrayReader\n",
    "\n",
    "# Import our enhanced COG-style multiscale utilities\n",
    "from geozarr_examples.cog_multiscales import (\n",
    "    setup_eopf_metadata,\n",
    "    create_full_eopf_zarr_store,\n",
    "    plot_rgb_overview,\n",
    "    get_sentinel2_rgb_bands,\n",
    "    verify_overview_coordinates,\n",
    "    plot_overview_levels\n",
    ")"
   ]
  },
  {
   "cell_type": "code",
   "execution_count": null,
   "metadata": {},
   "outputs": [],
   "source": [
    "# Set up paths and parameters\n",
    "fp_base = \"S2B_MSIL1C_20250113T103309_N0511_R108_T32TLQ_20250113T122458\"\n",
    "input_url = f\"https://objectstore.eodc.eu:2222/e05ab01a9d56408d82ac32d69a5aae2a:sample-data/tutorial_data/cpm_v253/{fp_base}.zarr\"\n",
    "v3_output = f\"../output/v3/{fp_base}_full_multiscales.zarr\"\n",
    "\n",
    "# Processing parameters\n",
    "spatial_chunk = 4096\n",
    "min_dimension = 256\n",
    "tileWidth = 256"
   ]
  },
  {
   "cell_type": "code",
   "execution_count": null,
   "metadata": {},
   "outputs": [],
   "source": [
    "from xarray.namedarray.parallelcompat import list_chunkmanagers\n",
    "list_chunkmanagers()"
   ]
  },
  {
   "cell_type": "code",
   "execution_count": null,
   "metadata": {},
   "outputs": [],
   "source": [
    "from dask.distributed import Client\n",
    "client = Client()  # set up local cluster on your laptop\n",
    "client"
   ]
  },
  {
   "cell_type": "code",
   "execution_count": null,
   "metadata": {},
   "outputs": [],
   "source": [
    "# Load the EOPF DataTree\n",
    "dt = xr.open_datatree(input_url, engine=\"zarr\", chunks={})\n",
    "print(\"EOPF DataTree structure:\")\n",
    "print(dt)"
   ]
  },
  {
   "cell_type": "markdown",
   "metadata": {},
   "source": [
    "## Explore the Original EOPF Structure"
   ]
  },
  {
   "cell_type": "code",
   "execution_count": null,
   "metadata": {},
   "outputs": [],
   "source": [
    "# Examine the reflectance measurements structure\n",
    "reflectance_ds = dt[\"measurements/reflectance\"]\n",
    "print(\"Reflectance groups:\")\n",
    "for group in reflectance_ds.groups:\n",
    "    if reflectance_ds[group].data_vars:\n",
    "        print(f\"  {group}: {list(reflectance_ds[group].data_vars)}\")\n",
    "        # Show dimensions for first variable\n",
    "        first_var = list(reflectance_ds[group].data_vars)[0]\n",
    "        dims = reflectance_ds[group][first_var].dims\n",
    "        shape = reflectance_ds[group][first_var].shape\n",
    "        print(f\"    Dimensions: {dims} = {shape}\")"
   ]
  },
  {
   "cell_type": "code",
   "execution_count": null,
   "metadata": {},
   "outputs": [],
   "source": [
    "# Quick visualization of original data\n",
    "dt[\"measurements/reflectance/r60m\"][\"b01\"].plot(figsize=(10, 6))\n",
    "plt.title(\"Original EOPF Data - Band B01 at 60m resolution\")\n",
    "plt.show()"
   ]
  },
  {
   "cell_type": "markdown",
   "metadata": {},
   "source": [
    "## Create Full EOPF Zarr Store with Multiscales\n",
    "\n",
    "This section uses our enhanced helper functions to:\n",
    "1. Process all resolution groups (r10m, r20m, r60m)\n",
    "2. Set up proper CF metadata and CRS information\n",
    "3. Create COG-style overview levels for all bands\n",
    "4. Maintain the original EOPF structure while adding GeoZarr compliance"
   ]
  },
  {
   "cell_type": "code",
   "execution_count": null,
   "metadata": {},
   "outputs": [],
   "source": [
    "# Create the full EOPF Zarr store with multiscales\n",
    "print(\"Creating full EOPF Zarr store with multiscales...\")\n",
    "print(\"This will process all resolution groups and create overview levels for all bands.\")\n",
    "print(\"This may take several minutes depending on data size and number of bands.\")\n",
    "print(\"\\n⚠️  Note: If you encounter timeout errors, try setting load_data=False for lazy loading.\\n\")\n",
    "\n",
    "# Option 1: Load data into memory (faster but may timeout on large datasets)\n",
    "try:\n",
    "    result = create_full_eopf_zarr_store(\n",
    "        dt=dt,\n",
    "        output_path=v3_output,\n",
    "        spatial_chunk=spatial_chunk,\n",
    "        min_dimension=min_dimension,\n",
    "        tileWidth=tileWidth,\n",
    "        load_data=False,  # Load data into memory to avoid timeouts\n",
    "        max_retries=3    # Retry failed operations\n",
    "    )\n",
    "    print(\"\\n✅ Full EOPF Zarr store created successfully!\")\n",
    "    \n",
    "except Exception as e:\n",
    "    print(f\"\\n❌ Failed with data loading: {e}\")\n",
    "    print(\"\\n🔄 Trying with lazy loading (slower but more reliable)...\")\n",
    "    \n",
    "    # Option 2: Use lazy loading (slower but more reliable for large datasets)\n",
    "    result = create_full_eopf_zarr_store(\n",
    "        dt=dt,\n",
    "        output_path=v3_output,\n",
    "        spatial_chunk=spatial_chunk,\n",
    "        min_dimension=min_dimension,\n",
    "        tileWidth=tileWidth,\n",
    "        load_data=False,  # Use lazy loading\n",
    "        max_retries=5     # More retries for network operations\n",
    "    )\n",
    "    print(\"\\n✅ Full EOPF Zarr store created successfully with lazy loading!\")\n",
    "\n",
    "print(f\"Output location: {v3_output}\")\n",
    "print(f\"Processed groups: {list(result['processed_groups'].keys())}\")"
   ]
  },
  {
   "cell_type": "markdown",
   "metadata": {},
   "source": [
    "## Consolidate Metadata"
   ]
  },
  {
   "cell_type": "code",
   "execution_count": null,
   "metadata": {},
   "outputs": [],
   "source": [
    "# Consolidate metadata at the root of the Zarr store\n",
    "zarr.consolidate_metadata(v3_output)\n",
    "print(\"Metadata consolidated successfully!\")"
   ]
  },
  {
   "cell_type": "markdown",
   "metadata": {},
   "source": [
    "## Inspect the Enhanced Zarr V3 Store"
   ]
  },
  {
   "cell_type": "code",
   "execution_count": null,
   "metadata": {},
   "outputs": [],
   "source": [
    "# Inspect the structure of the created Zarr store\n",
    "root = zarr.open_group(v3_output, mode=\"r\")\n",
    "print(\"Enhanced Zarr V3 store structure:\")\n",
    "print(root.tree())"
   ]
  },
  {
   "cell_type": "markdown",
   "metadata": {},
   "source": [
    "## Verify Coordinates and CRS in Overview Levels\n",
    "\n",
    "Let's verify that our overview levels maintain proper coordinates and CRS information."
   ]
  },
  {
   "cell_type": "code",
   "execution_count": null,
   "metadata": {},
   "outputs": [],
   "source": [
    "# Verify coordinates for one of the resolution groups\n",
    "# Let's check the r10m group which should have the highest resolution\n",
    "if '/measurements/reflectance/r10m' in result['processed_groups']:\n",
    "    group_name = '/measurements/reflectance/r10m'\n",
    "    # Get the first band with overviews\n",
    "    band_name = list(result['overview_levels'][group_name].keys())[0]\n",
    "    overview_levels = result['overview_levels'][group_name][band_name]['levels']\n",
    "    overview_path = result['overview_levels'][group_name][band_name]['path']\n",
    "    \n",
    "    # Get the native CRS from the processed group\n",
    "    native_crs = result['processed_groups'][group_name].rio.crs\n",
    "    \n",
    "    print(f\"Verifying coordinates for {group_name}/{band_name}:\")\n",
    "    verify_overview_coordinates(\n",
    "        v3_output=overview_path,\n",
    "        overview_levels=overview_levels,\n",
    "        native_crs=native_crs,\n",
    "        max_levels=3\n",
    "    )\n",
    "else:\n",
    "    print(\"r10m group not found, checking available groups:\")\n",
    "    print(list(result['processed_groups'].keys()))"
   ]
  },
  {
   "cell_type": "markdown",
   "metadata": {},
   "source": [
    "## Enhanced RGB Visualization with Overview Levels\n",
    "\n",
    "Now let's create RGB composite visualizations using different overview levels. This demonstrates the power of having multiscale data for efficient visualization at different zoom levels."
   ]
  },
  {
   "cell_type": "code",
   "execution_count": null,
   "metadata": {},
   "outputs": [],
   "source": [
    "# Find the best resolution group for RGB visualization\n",
    "# Prefer r10m if available, otherwise use r20m or r60m\n",
    "rgb_group = None\n",
    "for preferred_group in ['/measurements/reflectance/r10m', '/measurements/reflectance/r20m', '/measurements/reflectance/r60m']:\n",
    "    if preferred_group in result['processed_groups']:\n",
    "        # Check if this group has the RGB bands we need\n",
    "        available_bands = list(result['processed_groups'][preferred_group].data_vars)\n",
    "        red_band, green_band, blue_band = get_sentinel2_rgb_bands(preferred_group)\n",
    "        \n",
    "        if all(band in available_bands for band in [red_band, green_band, blue_band]):\n",
    "            rgb_group = preferred_group\n",
    "            break\n",
    "\n",
    "if rgb_group:\n",
    "    print(f\"Using {rgb_group} for RGB visualization\")\n",
    "    red_band, green_band, blue_band = get_sentinel2_rgb_bands(rgb_group)\n",
    "    print(f\"RGB bands: R={red_band}, G={green_band}, B={blue_band}\")\n",
    "else:\n",
    "    print(\"No suitable group found for RGB visualization\")\n",
    "    print(\"Available groups and their bands:\")\n",
    "    for group_name, ds in result['processed_groups'].items():\n",
    "        print(f\"  {group_name}: {list(ds.data_vars)}\")"
   ]
  },
  {
   "cell_type": "code",
   "execution_count": null,
   "metadata": {},
   "outputs": [],
   "source": [
    "# Create RGB visualization at native resolution (overview level 0)\n",
    "if rgb_group:\n",
    "    print(\"Creating RGB composite at native resolution...\")\n",
    "    fig_native = plot_rgb_overview(\n",
    "        zarr_store_path=v3_output,\n",
    "        group_name=rgb_group,\n",
    "        red_band=red_band,\n",
    "        green_band=green_band,\n",
    "        blue_band=blue_band,\n",
    "        overview_level=0,  # Native resolution\n",
    "        figsize=(14, 10)\n",
    "    )"
   ]
  },
  {
   "cell_type": "code",
   "execution_count": null,
   "metadata": {},
   "outputs": [],
   "source": [
    "# Create RGB visualization at overview level 1 (1:2 scale)\n",
    "if rgb_group:\n",
    "    print(\"Creating RGB composite at overview level 1 (1:2 scale)...\")\n",
    "    fig_overview1 = plot_rgb_overview(\n",
    "        zarr_store_path=v3_output,\n",
    "        group_name=rgb_group,\n",
    "        red_band=red_band,\n",
    "        green_band=green_band,\n",
    "        blue_band=blue_band,\n",
    "        overview_level=1,  # 1:2 scale\n",
    "        figsize=(14, 10)\n",
    "    )"
   ]
  },
  {
   "cell_type": "code",
   "execution_count": null,
   "metadata": {},
   "outputs": [],
   "source": [
    "# Create RGB visualization at overview level 2 (1:4 scale)\n",
    "if rgb_group:\n",
    "    print(\"Creating RGB composite at overview level 2 (1:4 scale)...\")\n",
    "    fig_overview2 = plot_rgb_overview(\n",
    "        zarr_store_path=v3_output,\n",
    "        group_name=rgb_group,\n",
    "        red_band=red_band,\n",
    "        green_band=green_band,\n",
    "        blue_band=blue_band,\n",
    "        overview_level=2,  # 1:4 scale\n",
    "        figsize=(14, 10)\n",
    "    )"
   ]
  },
  {
   "cell_type": "code",
   "execution_count": null,
   "metadata": {},
   "outputs": [],
   "source": [
    "# Create RGB visualization at overview level 3 (1:8 scale)\n",
    "if rgb_group:\n",
    "    print(\"Creating RGB composite at overview level 3 (1:8 scale)...\")\n",
    "    fig_overview2 = plot_rgb_overview(\n",
    "        zarr_store_path=v3_output,\n",
    "        group_name=rgb_group,\n",
    "        red_band=red_band,\n",
    "        green_band=green_band,\n",
    "        blue_band=blue_band,\n",
    "        overview_level=3,  # 1:8 scale\n",
    "        figsize=(14, 10)\n",
    "    )"
   ]
  },
  {
   "cell_type": "code",
   "execution_count": null,
   "metadata": {},
   "outputs": [],
   "source": [
    "# Create RGB visualization at overview level 4 (1:16 scale)\n",
    "if rgb_group:\n",
    "    print(\"Creating RGB composite at overview level 4 (1:16 scale)...\")\n",
    "    fig_overview2 = plot_rgb_overview(\n",
    "        zarr_store_path=v3_output,\n",
    "        group_name=rgb_group,\n",
    "        red_band=red_band,\n",
    "        green_band=green_band,\n",
    "        blue_band=blue_band,\n",
    "        overview_level=4,  # 1:16 scale\n",
    "        figsize=(14, 10)\n",
    "    )"
   ]
  },
  {
   "cell_type": "code",
   "execution_count": null,
   "metadata": {},
   "outputs": [],
   "source": [
    "# Create RGB visualization at overview level 5 (1:32 scale)\n",
    "if rgb_group:\n",
    "    print(\"Creating RGB composite at overview level 5 (1:32 scale)...\")\n",
    "    fig_overview2 = plot_rgb_overview(\n",
    "        zarr_store_path=v3_output,\n",
    "        group_name=rgb_group,\n",
    "        red_band=red_band,\n",
    "        green_band=green_band,\n",
    "        blue_band=blue_band,\n",
    "        overview_level=5,  # 1:32 scale\n",
    "        figsize=(14, 10)\n",
    "    )"
   ]
  },
  {
   "cell_type": "markdown",
   "metadata": {},
   "source": [
    "## Compare Overview Levels for Individual Bands\n",
    "\n",
    "Let's also visualize how individual bands look at different overview levels to demonstrate the quality of our COG-style downsampling."
   ]
  },
  {
   "cell_type": "code",
   "execution_count": null,
   "metadata": {},
   "outputs": [],
   "source": [
    "# Plot overview levels for one of the bands\n",
    "if rgb_group and red_band in result['overview_levels'][rgb_group]:\n",
    "    overview_levels = result['overview_levels'][rgb_group][red_band]['levels']\n",
    "    overview_path = result['overview_levels'][rgb_group][red_band]['path']\n",
    "    \n",
    "    print(f\"Plotting overview levels for {rgb_group}/{red_band}:\")\n",
    "    fig_levels = plot_overview_levels(\n",
    "        v3_output=overview_path,\n",
    "        overview_levels=overview_levels,\n",
    "        var=red_band,\n",
    "        max_plots=3\n",
    "    )"
   ]
  },
  {
   "cell_type": "markdown",
   "metadata": {},
   "source": [
    "## Summary and Data Access Examples\n",
    "\n",
    "Let's demonstrate how to access the created multiscale data programmatically."
   ]
  },
  {
   "cell_type": "code",
   "execution_count": null,
   "metadata": {},
   "outputs": [],
   "source": [
    "# Show how to access different resolution groups and their overview levels\n",
    "print(\"=== Data Access Examples ===\")\n",
    "print(f\"\\nZarr store location: {v3_output}\")\n",
    "print(f\"Available resolution groups: {list(result['processed_groups'].keys())}\")\n",
    "\n",
    "for group_name in result['processed_groups'].keys():\n",
    "    print(f\"\\n--- {group_name} ---\")\n",
    "    \n",
    "    # Show native resolution access\n",
    "    native_path = f\"{v3_output}/{group_name}\"\n",
    "    print(f\"Native resolution: {native_path}\")\n",
    "    \n",
    "    # Show available bands\n",
    "    bands = list(result['processed_groups'][group_name].data_vars)\n",
    "    print(f\"Available bands: {bands}\")\n",
    "    \n",
    "    # Show overview levels for first band\n",
    "    if bands and group_name in result['overview_levels']:\n",
    "        first_band = bands[0]\n",
    "        if first_band in result['overview_levels'][group_name]:\n",
    "            overview_info = result['overview_levels'][group_name][first_band]\n",
    "            overview_path = overview_info['path']\n",
    "            levels = overview_info['levels']\n",
    "            \n",
    "            print(f\"Overview levels for {first_band}:\")\n",
    "            for level in levels[:3]:  # Show first 3 levels\n",
    "                scale = level['scale_factor']\n",
    "                dims = f\"{level['width']}x{level['height']}\"\n",
    "                level_path = f\"{overview_path}/{level['level']}\"\n",
    "                print(f\"  Level {level['level']} (1:{scale}): {dims} -> {level_path}\")"
   ]
  },
  {
   "cell_type": "code",
   "execution_count": null,
   "metadata": {},
   "outputs": [],
   "source": [
    "# Example: Load and examine a specific overview level\n",
    "if rgb_group and red_band in result['overview_levels'][rgb_group]:\n",
    "    overview_path = result['overview_levels'][rgb_group][red_band]['path']\n",
    "    \n",
    "    # Load overview level 1\n",
    "    overview_ds = xr.open_zarr(overview_path, group=\"1\", zarr_format=3)\n",
    "    \n",
    "    print(f\"\\n=== Example: Overview Level 1 for {rgb_group}/{red_band} ===\")\n",
    "    print(f\"Dimensions: {dict(overview_ds.sizes)}\")\n",
    "    print(f\"Coordinates: {list(overview_ds.coords)}\")\n",
    "    print(f\"Data variables: {list(overview_ds.data_vars)}\")\n",
    "    print(f\"CRS: {overview_ds.rio.crs}\")\n",
    "    \n",
    "    # Show coordinate ranges\n",
    "    if 'x' in overview_ds.coords and 'y' in overview_ds.coords:\n",
    "        x_range = (overview_ds.x.min().values, overview_ds.x.max().values)\n",
    "        y_range = (overview_ds.y.min().values, overview_ds.y.max().values)\n",
    "        print(f\"X range: {x_range[0]:.2f} to {x_range[1]:.2f}\")\n",
    "        print(f\"Y range: {y_range[0]:.2f} to {y_range[1]:.2f}\")"
   ]
  },
  {
   "cell_type": "markdown",
   "metadata": {},
   "source": [
    "## Summary\n",
    "\n",
    "This enhanced notebook demonstrates a complete transformation of EOPF Zarr data into a fully GeoZarr-compliant multiscale dataset:\n",
    "\n",
    "### ✅ **Complete EOPF Structure Preservation**:\n",
    "- All resolution groups (r10m, r20m, r60m) processed\n",
    "- All spectral bands included with proper metadata\n",
    "- Original EOPF hierarchy maintained while adding GeoZarr compliance\n",
    "\n",
    "### ✅ **Enhanced Multiscale Support**:\n",
    "- COG-style overview levels for every band in every resolution group\n",
    "- Efficient /2 downsampling with proper coordinate arrays\n",
    "- Native CRS preservation across all overview levels\n",
    "\n",
    "### ✅ **Advanced Visualization Capabilities**:\n",
    "- RGB composite generation using overview levels\n",
    "- Automatic band selection for Sentinel-2 data\n",
    "- Contrast stretching and proper coordinate display\n",
    "- Multi-scale visualization for efficient data exploration\n",
    "\n",
    "### ✅ **Modular Code Organization**:\n",
    "- Core functionality moved to `geozarr_examples.cog_multiscales` module\n",
    "- Reusable functions for EOPF metadata setup\n",
    "- Flexible RGB plotting with overview level selection\n",
    "- Clean separation of concerns for maintainability\n",
    "\n",
    "### ✅ **Full GeoZarr Compliance**:\n",
    "- CF-compliant metadata and standard names\n",
    "- Proper CRS information in multiple formats\n",
    "- Grid mapping attributes linking data to spatial reference\n",
    "- Multiscale metadata for TMS compatibility\n",
    "- Zarr V3 format with efficient compression\n",
    "\n",
    "### 🔍 **Key Enhancements Over Original Notebook**:\n",
    "\n",
    "1. **Comprehensive Processing**: Instead of just one band, all bands in all resolution groups are processed\n",
    "2. **RGB Visualization**: Added RGB composite plotting with overview level selection\n",
    "3. **Code Modularity**: Moved complex logic to helper functions for reusability\n",
    "4. **Better Organization**: Clear separation between data processing and visualization\n",
    "5. **Enhanced Documentation**: More detailed explanations and usage examples\n",
    "\n",
    "The resulting Zarr store is a complete, cloud-optimized, multiscale geospatial dataset that maintains the rich structure of EOPF while providing the performance benefits of GeoZarr and the visualization capabilities demonstrated through RGB composites at multiple scales."
   ]
  }
 ],
 "metadata": {
  "kernelspec": {
   "display_name": ".venv",
   "language": "python",
   "name": "python3"
  },
  "language_info": {
   "codemirror_mode": {
    "name": "ipython",
    "version": 3
   },
   "file_extension": ".py",
   "mimetype": "text/x-python",
   "name": "python",
   "nbconvert_exporter": "python",
   "pygments_lexer": "ipython3",
   "version": "3.11.0rc1"
  }
 },
 "nbformat": 4,
 "nbformat_minor": 4
}

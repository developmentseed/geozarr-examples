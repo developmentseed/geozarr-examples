{
 "cells": [
  {
   "cell_type": "markdown",
   "id": "201df5fa",
   "metadata": {},
   "source": [
    "# Create a STAC-aware GeoZarr RGB tile of a Sentinel-2 scene over Vienna.\n",
    "\n",
    "This example demonstrates a best-practice workflow for creating a STAC-aware,\n",
    "interoperable GeoZarr store from Sentinel-2 Cloud-Optimized GeoTIFFs (COGs).\n",
    "\n",
    "The key steps are:\n",
    "1.  Query Earth-Search for a recent, low-cloud Sentinel-2 L2A scene.\n",
    "2.  Stream and stack the source RGB bands into a single, lazy xarray.DataArray.\n",
    "3.  Prepare a GeoZarr-compliant xarray.Dataset in memory, which includes\n",
    "    embedding STAC metadata and refining the CRS attributes.\n",
    "4.  Write the final, consolidated GeoZarr store.\n",
    "5.  Verify the result by reopening the store and inspecting the STAC metadata.\n",
    "6.  Display a coarsened preview of the RGB image."
   ]
  },
  {
   "cell_type": "code",
   "execution_count": null,
   "id": "d69aaf03",
   "metadata": {},
   "outputs": [],
   "source": [
    "\"\"\"Create a STAC-aware GeoZarr RGB tile of a Sentinel-2 scene over Vienna.\"\"\"\n",
    "\n",
    "from datetime import date\n",
    "from pathlib import Path\n",
    "\n",
    "import jsonschema\n",
    "import matplotlib.pyplot as plt\n",
    "import pystac_client\n",
    "import rioxarray as rxr\n",
    "import xarray as xr"
   ]
  },
  {
   "cell_type": "markdown",
   "id": "f5ab0f10",
   "metadata": {},
   "source": [
    "## Query Earth-Search for a recent, low-cloud Sentinel-2 L2A scene."
   ]
  },
  {
   "cell_type": "code",
   "execution_count": null,
   "id": "57b1e690",
   "metadata": {},
   "outputs": [],
   "source": [
    "print(\"Step 1: Querying for a Sentinel-2 scene over Vienna...\")\n",
    "API = \"https://earth-search.aws.element84.com/v1\"\n",
    "coll = \"sentinel-2-l2a\"\n",
    "bbox = [16.20, 48.10, 16.45, 48.30]  # Vienna\n",
    "today = date.today()\n",
    "last_year = today.replace(year=today.year - 1)\n",
    "daterange = f\"{last_year:%Y-%m-%d}/{today:%Y-%m-%d}\"\n",
    "\n",
    "item = next(\n",
    "    pystac_client.Client.open(API)\n",
    "    .search(\n",
    "        collections=[coll],\n",
    "        bbox=bbox,\n",
    "        datetime=daterange,\n",
    "        query={\"eo:cloud_cover\": {\"lt\": 5}},\n",
    "        limit=1,\n",
    "    )\n",
    "    .items(),\n",
    "    None,\n",
    ")\n",
    "if not item:\n",
    "    raise RuntimeError(\"No Sentinel-2 scene found for the specified criteria.\")\n",
    "print(f\"Found scene: {item.id} (Cloud cover: {item.properties['eo:cloud_cover']:.2f}%)\")"
   ]
  },
  {
   "cell_type": "markdown",
   "id": "3350077f",
   "metadata": {},
   "source": [
    "## Stream and stack the source RGB bands into a lazy DataArray."
   ]
  },
  {
   "cell_type": "code",
   "execution_count": null,
   "id": "24447579",
   "metadata": {},
   "outputs": [],
   "source": [
    "print(\"\\nStep 2: Streaming and stacking source COG bands...\")\n",
    "bands = [\"red\", \"green\", \"blue\"]\n",
    "rgb = xr.concat(\n",
    "    [\n",
    "        rxr.open_rasterio(\n",
    "            item.assets[b].href, chunks={\"band\": 1, \"x\": 2048, \"y\": 2048}, masked=True\n",
    "        ).assign_coords(band=[b])\n",
    "        for b in bands\n",
    "    ],\n",
    "    dim=\"band\",\n",
    ")\n",
    "rgb.name = \"radiance\"\n",
    "# Assign the Coordinate Reference System from the STAC item's properties.\n",
    "rgb = rgb.rio.write_crs(item.properties[\"proj:code\"])"
   ]
  },
  {
   "cell_type": "markdown",
   "id": "aaf9fc46",
   "metadata": {},
   "source": [
    "## Prepare a complete, GeoZarr-compliant xarray.Dataset in memory."
   ]
  },
  {
   "cell_type": "code",
   "execution_count": null,
   "id": "434c273c",
   "metadata": {},
   "outputs": [],
   "source": [
    "print(\"\\nStep 3: Preparing the final xarray.Dataset with all metadata...\")\n",
    "# Convert the stacked RGB DataArray into a Dataset and name the data variable\n",
    "radiance_ds = rgb.to_dataset(name=\"radiance\")\n",
    "\n",
    "# Grab the original GeoTransform from the DataArray\n",
    "transform = rgb.rio.transform()\n",
    "\n",
    "# Ensure x/y are recognized as spatial dims, then write transform + CRS at the dataset level\n",
    "radiance_ds = (\n",
    "    radiance_ds.rio.set_spatial_dims(x_dim=\"x\", y_dim=\"y\")\n",
    "    .rio.write_transform(transform)\n",
    "    .rio.write_crs(item.properties[\"proj:code\"])\n",
    ")\n",
    "\n",
    "# Remove the \"spatial_ref\" attribute because it is redundant with \"crs_wkt\" and not included in CF conventions.\n",
    "_ = radiance_ds[\"spatial_ref\"].attrs.pop(\"spatial_ref\", None)"
   ]
  },
  {
   "cell_type": "markdown",
   "id": "4460c848",
   "metadata": {},
   "source": [
    "## Build the STAC Item metadata dictionary"
   ]
  },
  {
   "cell_type": "code",
   "execution_count": null,
   "id": "accfb192",
   "metadata": {},
   "outputs": [],
   "source": [
    "gsd = min(item.assets[b].to_dict().get(\"gsd\", 10) for b in bands)\n",
    "store_path = Path(f\"../output/{coll}_{'_'.join(bands)}_{item.id}.zarr\")\n",
    "stac_metadata = {\n",
    "    \"type\": \"Item\",\n",
    "    \"stac_version\": \"1.0.0\",\n",
    "    \"id\": item.id,\n",
    "    \"bbox\": item.bbox,\n",
    "    \"geometry\": item.geometry,\n",
    "    \"properties\": {\n",
    "        \"datetime\": item.properties[\"datetime\"],\n",
    "        \"proj:code\": item.properties[\"proj:code\"],\n",
    "        \"platform\": item.properties[\"platform\"],\n",
    "        \"instruments\": item.properties[\"instruments\"],\n",
    "        \"eo:cloud_cover\": item.properties[\"eo:cloud_cover\"],\n",
    "        \"gsd\": gsd,\n",
    "    },\n",
    "    \"assets\": {\n",
    "        \"data\": {\n",
    "            \"href\": store_path.name,\n",
    "            \"type\": \"application/x-zarr\",\n",
    "            \"roles\": [\"data\"],\n",
    "        }\n",
    "    },\n",
    "    \"license\": item.properties.get(\"license\", \"proprietary\"),\n",
    "}\n",
    "# Basic STAC schema check\n",
    "jsonschema.validate(\n",
    "    instance=stac_metadata,\n",
    "    schema={\"type\": \"object\", \"required\": [\"type\", \"id\", \"stac_version\", \"assets\"]},\n",
    ")\n",
    "# Embed it in the dataset attrs\n",
    "radiance_ds.attrs[\"stac\"] = stac_metadata"
   ]
  },
  {
   "cell_type": "markdown",
   "id": "daf0ab1d",
   "metadata": {},
   "source": [
    "## Write the final, consolidated GeoZarr store to disk."
   ]
  },
  {
   "cell_type": "code",
   "execution_count": null,
   "id": "9fac3ec5",
   "metadata": {},
   "outputs": [],
   "source": [
    "print(f\"\\nStep 4: Writing the final GeoZarr store to {store_path.resolve()}...\")\n",
    "\n",
    "# Mode 'w' will remove everything in the store_path before writing new data.\n",
    "radiance_ds.chunk({\"y\": 512, \"x\": 512}).to_zarr(store_path, mode=\"w\", consolidated=True)"
   ]
  },
  {
   "cell_type": "markdown",
   "id": "b1068d76",
   "metadata": {},
   "source": [
    "## Verify the result by reopening the store and checking for STAC metadata."
   ]
  },
  {
   "cell_type": "code",
   "execution_count": null,
   "id": "7b1ddad9",
   "metadata": {},
   "outputs": [],
   "source": [
    "print(\"\\nStep 5: Verifying the created GeoZarr store...\")\n",
    "with xr.open_zarr(store_path, consolidated=True) as verified_ds:\n",
    "    if \"stac\" not in verified_ds.attrs:\n",
    "        raise RuntimeError(\"FAIL: STAC metadata was not found.\")\n",
    "    print(\"✅ SUCCESS: Embedded STAC metadata was found.\")"
   ]
  },
  {
   "cell_type": "markdown",
   "id": "4b3ea9d1",
   "metadata": {},
   "source": [
    "## Display a coarsened preview of the RGB image."
   ]
  },
  {
   "cell_type": "code",
   "execution_count": null,
   "id": "be2dcbf1",
   "metadata": {},
   "outputs": [],
   "source": [
    "print(\"\\nStep 6: Generating and displaying a coarsened preview...\")\n",
    "with xr.open_zarr(store_path, consolidated=True) as ds_to_plot:\n",
    "    preview = ds_to_plot.radiance.coarsen(y=8, x=8, boundary=\"trim\").mean()\n",
    "\n",
    "    # Apply a simple contrast stretch for better visualization.\n",
    "    p2, p98 = preview.quantile(0.02), preview.quantile(0.98)\n",
    "\n",
    "    preview_stretched = preview.clip(min=p2, max=p98)\n",
    "    preview_stretched = (preview_stretched - p2) / (p98 - p2)\n",
    "\n",
    "    rgb_preview = preview_stretched.transpose(\"y\", \"x\", \"band\").values\n",
    "\n",
    "    fig, ax = plt.subplots(figsize=(8, 8))\n",
    "    ax.imshow(rgb_preview)\n",
    "    ax.set_title(f\"Coarsened Preview of {item.id}\")\n",
    "    ax.set_axis_off()\n",
    "    plt.show()"
   ]
  },
  {
   "cell_type": "code",
   "execution_count": null,
   "id": "756b163e",
   "metadata": {},
   "outputs": [],
   "source": []
  }
 ],
 "metadata": {
  "kernelspec": {
   "display_name": "Python 3",
   "language": "python",
   "name": "python3"
  },
  "language_info": {
   "codemirror_mode": {
    "name": "ipython",
    "version": 3
   },
   "file_extension": ".py",
   "mimetype": "text/x-python",
   "name": "python",
   "nbconvert_exporter": "python",
   "pygments_lexer": "ipython3",
   "version": "3.13.5"
  }
 },
 "nbformat": 4,
 "nbformat_minor": 5
}

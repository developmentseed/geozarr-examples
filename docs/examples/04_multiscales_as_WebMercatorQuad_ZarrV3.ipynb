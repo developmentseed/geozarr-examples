{
 "cells": [
  {
   "cell_type": "markdown",
   "metadata": {},
   "source": [
    "# Create a GeoZarr with multi-scales containing the WebMercatorQuad TMS\n",
    "\n",
    "While GeoZarr v0.4 is Zarr V2 specific, let's write a Zarr V3 store to get an idea about how GeoZarr could be adapted for Zarr format 3."
   ]
  },
  {
   "cell_type": "markdown",
   "metadata": {},
   "source": [
    "## Load example dataset from NetCDF into Xarray"
   ]
  },
  {
   "cell_type": "code",
   "execution_count": null,
   "metadata": {},
   "outputs": [],
   "source": [
    "import glob\n",
    "import json\n",
    "\n",
    "import cf_xarray  # noqa\n",
    "import dask.array as da\n",
    "import matplotlib.pyplot as plt\n",
    "import morecantile\n",
    "import numpy as np\n",
    "import panel\n",
    "import rasterio\n",
    "import rioxarray  # noqa\n",
    "import xarray as xr\n",
    "import zarr\n",
    "from rio_tiler.io.xarray import XarrayReader"
   ]
  },
  {
   "cell_type": "code",
   "execution_count": null,
   "metadata": {},
   "outputs": [],
   "source": [
    "files = glob.glob(\"../data/2002060*.nc\")\n",
    "datasets = [\n",
    "    xr.open_dataset(filepath, engine=\"h5netcdf\", chunks={}) for filepath in files[:3]\n",
    "]"
   ]
  },
  {
   "cell_type": "code",
   "execution_count": null,
   "metadata": {},
   "outputs": [],
   "source": [
    "ds = xr.concat(\n",
    "    datasets,\n",
    "    dim=\"time\",\n",
    "    data_vars=\"minimal\",\n",
    "    coords=\"minimal\",\n",
    "    join=\"exact\",\n",
    "    compat=\"override\",\n",
    ")"
   ]
  },
  {
   "cell_type": "code",
   "execution_count": null,
   "metadata": {},
   "outputs": [],
   "source": [
    "# v3_output = \"s3://ds-maxrjones/geozarr-test/output/v3/200206-JPL-L4_GHRSST-SSTfnd-MUR-GLOB-v02.0-fv04.1_multiscales.zarr/\"\n",
    "v3_output = (\n",
    "    \"../output/v3/200206-JPL-L4_GHRSST-SSTfnd-MUR-GLOB-v02.0-fv04.1_multiscales.zarr\"\n",
    ")"
   ]
  },
  {
   "cell_type": "markdown",
   "metadata": {},
   "source": [
    "## Check that all variables have a CF-compliant standard name\n"
   ]
  },
  {
   "cell_type": "code",
   "execution_count": null,
   "metadata": {},
   "outputs": [],
   "source": [
    "standard_names = ds.cf.standard_names\n",
    "vars_with_standard_names = [v[0] for v in ds.cf.standard_names.values()]\n",
    "compliant_vars = []\n",
    "non_complaint_vars = []\n",
    "for var in ds.variables:\n",
    "    if var not in vars_with_standard_names:\n",
    "        non_complaint_vars.append(var)\n",
    "    else:\n",
    "        compliant_vars.append(var)\n",
    "        assert ds[var].attrs[\"standard_name\"]\n",
    "\n",
    "print(f\"These variables do NOT have a CF-compliant standard name: {non_complaint_vars}\")\n",
    "print(f\"These variables have a CF-compliant standard name: {compliant_vars}\")"
   ]
  },
  {
   "cell_type": "markdown",
   "metadata": {},
   "source": [
    "Not all the variables in this dataset have a CF-compliant standard name. See https://github.com/zarr-developers/geozarr-spec/issues/60 for a recommendation that CF-compliant standard names should be a \"SHOULD\" rather than a \"MUST\" condition in the GeoZarr spec. For now, let's subset to the variables that do use CF-compliant standard names."
   ]
  },
  {
   "cell_type": "code",
   "execution_count": null,
   "metadata": {},
   "outputs": [],
   "source": [
    "ds = ds[compliant_vars]"
   ]
  },
  {
   "cell_type": "markdown",
   "metadata": {},
   "source": [
    "## Assign CRS information to an auxiliary variable using rioxarray"
   ]
  },
  {
   "cell_type": "code",
   "execution_count": null,
   "metadata": {},
   "outputs": [],
   "source": [
    "ds = ds.rio.write_crs(\"epsg:4326\")\n",
    "# Specify which variable contains CRS information using grid_mapping\n",
    "for var in ds.data_vars:\n",
    "    ds[var].attrs[\"grid_mapping\"] = \"spatial_ref\""
   ]
  },
  {
   "cell_type": "markdown",
   "metadata": {},
   "source": [
    "## Specify that the `analysed_sst` variable will contain multiscales"
   ]
  },
  {
   "cell_type": "code",
   "execution_count": null,
   "metadata": {},
   "outputs": [],
   "source": [
    "ds[\"analysed_sst\"].attrs[\"multiscales\"] = {\n",
    "    \"tile_matrix_set\": \"WebMercatorQuad\",\n",
    "    \"resampling_method\": \"nearest\",\n",
    "    \"tile_matrix_limits\": {\"0\": {}, \"1\": {}, \"2\": {}},\n",
    "}"
   ]
  },
  {
   "cell_type": "markdown",
   "metadata": {},
   "source": [
    "## Specify encoding and write to Zarr V3 format"
   ]
  },
  {
   "cell_type": "code",
   "execution_count": null,
   "metadata": {},
   "outputs": [],
   "source": [
    "spatial_chunk = 4096\n",
    "compressor = zarr.codecs.ZstdCodec(level=1)\n",
    "encoding = {\n",
    "    \"analysed_sst\": {\n",
    "        \"chunks\": (1, spatial_chunk, spatial_chunk),\n",
    "        \"compressors\": compressor,\n",
    "    },\n",
    "    \"sea_ice_fraction\": {\n",
    "        \"chunks\": (1, spatial_chunk, spatial_chunk),\n",
    "        \"compressors\": compressor,\n",
    "    },\n",
    "}\n",
    "ds = ds.chunk({\"time\": 1, \"lat\": spatial_chunk, \"lon\": spatial_chunk})\n",
    "ds.to_zarr(v3_output, mode=\"w\", consolidated=True, zarr_format=3, encoding=encoding)"
   ]
  },
  {
   "cell_type": "markdown",
   "metadata": {},
   "source": [
    "## Create an empty xarray Dataset for each zoom level"
   ]
  },
  {
   "cell_type": "code",
   "execution_count": null,
   "metadata": {},
   "outputs": [],
   "source": [
    "tms = morecantile.tms.get(\"WebMercatorQuad\")\n",
    "tileWidth = 256\n",
    "var = \"analysed_sst\"\n",
    "dataset_length = ds[var].sizes[\"time\"]\n",
    "zoom_levels = [0, 1, 2]\n",
    "\n",
    "\n",
    "def create_overview_template(var, standard_name, *, tileWidth, dataset_length, zoom):\n",
    "    width = 2**zoom * tileWidth\n",
    "    overview_da = xr.DataArray(\n",
    "        da.empty(\n",
    "            shape=(dataset_length, width, width),\n",
    "            dtype=np.float32,\n",
    "            chunks=(1, tileWidth, tileWidth),\n",
    "        ),\n",
    "        dims=ds[var].dims,\n",
    "    )\n",
    "    template = overview_da.to_dataset(name=var)\n",
    "    template = template.rio.write_crs(\"epsg:3857\")\n",
    "    # Convert transform to GDAL's format\n",
    "    transform = rasterio.transform.from_bounds(*tms.xy_bbox, width, width)\n",
    "    transform = transform.to_gdal()\n",
    "    # Convert transform to space separated string\n",
    "    transform = \" \".join([str(i) for i in transform])\n",
    "    # Save as an attribute in the `spatial_ref` variable\n",
    "    template[\"spatial_ref\"].attrs[\"GeoTransform\"] = transform\n",
    "    template[var].attrs[\"grid_mapping\"] = \"spatial_ref\"\n",
    "    template[var].attrs[\"standard_name\"] = standard_name\n",
    "    return template"
   ]
  },
  {
   "cell_type": "markdown",
   "metadata": {},
   "source": [
    "## Write overview template (with no data) to zarr store"
   ]
  },
  {
   "cell_type": "code",
   "execution_count": null,
   "metadata": {},
   "outputs": [],
   "source": [
    "for zoom in zoom_levels:\n",
    "    template = create_overview_template(\n",
    "        var,\n",
    "        ds[var].attrs[\"standard_name\"],\n",
    "        tileWidth=tileWidth,\n",
    "        dataset_length=dataset_length,\n",
    "        zoom=zoom,\n",
    "    )\n",
    "    template.to_zarr(\n",
    "        v3_output,\n",
    "        group=str(zoom),\n",
    "        compute=False,\n",
    "        consolidated=False,\n",
    "        mode=\"w\",\n",
    "        zarr_format=3,\n",
    "    )"
   ]
  },
  {
   "cell_type": "markdown",
   "metadata": {},
   "source": [
    "## Populate Zarr array with overview data"
   ]
  },
  {
   "cell_type": "code",
   "execution_count": null,
   "metadata": {},
   "outputs": [],
   "source": [
    "def populate_tile_data(dst: XarrayReader, za: zarr.Array, x: int, y: int, zoom: int):\n",
    "    x_start = x * tileWidth\n",
    "    x_stop = (x + 1) * tileWidth\n",
    "    y_start = y * tileWidth\n",
    "    y_stop = (y + 1) * tileWidth\n",
    "    tile = dst.tile(x, y, zoom).data\n",
    "    za[:, y_start:y_stop, x_start:x_stop] = tile"
   ]
  },
  {
   "cell_type": "code",
   "execution_count": null,
   "metadata": {},
   "outputs": [],
   "source": [
    "matrices = tms.tileMatrices\n",
    "\n",
    "with XarrayReader(ds[var]) as dst:\n",
    "    for zoom in zoom_levels:\n",
    "        tm = matrices[zoom]\n",
    "        za = zarr.open_array(v3_output, path=f\"{zoom}/{var}\", zarr_version=3)\n",
    "        for x in range(tm.matrixWidth):\n",
    "            for y in range(tm.matrixHeight):\n",
    "                populate_tile_data(dst, za, x, y, zoom)"
   ]
  },
  {
   "cell_type": "markdown",
   "metadata": {},
   "source": [
    "# Consolidate metadata at the root of the Zarr store"
   ]
  },
  {
   "cell_type": "code",
   "execution_count": null,
   "metadata": {},
   "outputs": [],
   "source": [
    "zarr.consolidate_metadata(v3_output)"
   ]
  },
  {
   "cell_type": "markdown",
   "metadata": {},
   "source": [
    "## Inspect Zarr V3 store"
   ]
  },
  {
   "cell_type": "markdown",
   "metadata": {},
   "source": [
    "First, let's look at the structure of Zarr arrays using zarr's `Group.tree()` method"
   ]
  },
  {
   "cell_type": "code",
   "execution_count": null,
   "metadata": {},
   "outputs": [],
   "source": [
    "root = zarr.open_group(v3_output, mode=\"r\")\n",
    "root.tree()"
   ]
  },
  {
   "cell_type": "markdown",
   "metadata": {},
   "source": [
    "Second, let's look at what's actually recorded in the Zarr metadata using the consolidated metadata at the root of the Zarr store.\n",
    "\n",
    "In order to match valid JSON, we convert the nan fill_value entries to \"nan\".\n",
    "\n",
    "### Key observations\n",
    "\n",
    "- For each group and array, metadata is stored under the 'attributes' key in 'zarr.json'\n",
    "- All arrays contain a `attributes/standard_name`\n",
    "- The dimensions associated with an array are stored under `zarr.json/dimension_names` (separately from the `attributes`) rather than `_ARRAY_DIMENSIONS`\n",
    "- the `node_type` specifies whether the key holds a Zarr Array or a Zarr Group\n",
    "- The coordinates associated with an array are still specified within the array metadata. Currently this is an Xarray implementation detail rather than a part of the GeoZarr specification.\n",
    "- The `fill_value` for `sea_ice_fraction` and `analysed_sst` is 0 instead of nan. This is likely an error with the fill value not being explicitly specified.\n",
    "- `metadata/multiscales` for `analysed_sst` contains information about the multiscales, specifying that they are a `WebMercatorQuad` TMS created using `nearest` resampling\n",
    "- The `0`, `1`, and `2` groups contain GeoZarr compliant overviews for the `analysed_sst` variable, including the required `standard_name` and `grid_mapping` attributes.\n"
   ]
  },
  {
   "cell_type": "code",
   "execution_count": null,
   "metadata": {},
   "outputs": [],
   "source": [
    "panel.extension()\n",
    "consolidated_metadata_file = f\"{v3_output}/zarr.json\"\n",
    "with open(consolidated_metadata_file) as f:\n",
    "    metadata = json.load(f)[\"consolidated_metadata\"][\"metadata\"]\n",
    "panel.pane.JSON(metadata, name=\"JSON\")"
   ]
  },
  {
   "cell_type": "markdown",
   "metadata": {},
   "source": [
    "## Plot one of the zoom levels"
   ]
  },
  {
   "cell_type": "code",
   "execution_count": null,
   "metadata": {},
   "outputs": [],
   "source": [
    "var = \"analysed_sst\"\n",
    "zoom = 2\n",
    "arr = zarr.open_array(v3_output, path=f\"{zoom}/{var}\")\n",
    "arr = arr[:]\n",
    "plt.imshow(arr.squeeze())"
   ]
  },
  {
   "cell_type": "code",
   "execution_count": null,
   "metadata": {},
   "outputs": [],
   "source": []
  }
 ],
 "metadata": {
  "kernelspec": {
   "display_name": "test",
   "language": "python",
   "name": "python3"
  },
  "language_info": {
   "codemirror_mode": {
    "name": "ipython",
    "version": 3
   },
   "file_extension": ".py",
   "mimetype": "text/x-python",
   "name": "python",
   "nbconvert_exporter": "python",
   "pygments_lexer": "ipython3",
   "version": "3.13.5"
  }
 },
 "nbformat": 4,
 "nbformat_minor": 2
}

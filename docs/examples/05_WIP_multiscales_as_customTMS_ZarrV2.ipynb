{
 "cells": [
  {
   "cell_type": "markdown",
   "metadata": {},
   "source": [
    "# Create a GeoZarr with multi-scales containing the WebMercatorQuad TMS"
   ]
  },
  {
   "cell_type": "markdown",
   "metadata": {},
   "source": [
    "## Load example dataset from NetCDF into Xarray"
   ]
  },
  {
   "cell_type": "code",
   "execution_count": 1,
   "metadata": {},
   "outputs": [],
   "source": [
    "import cf_xarray  # noqa\n",
    "import morecantile\n",
    "import pyproj\n",
    "import rioxarray  # noqa\n",
    "import xarray as xr\n",
    "\n",
    "# For zarr_format=2 encoding\n",
    "from rio_tiler.io.xarray import XarrayReader"
   ]
  },
  {
   "cell_type": "code",
   "execution_count": 2,
   "metadata": {},
   "outputs": [],
   "source": [
    "fp_base = \"20020601090000-JPL-L4_GHRSST-SSTfnd-MUR-GLOB-v02.0-fv04.1\"\n",
    "input = f\"../data/{fp_base}.nc\"\n",
    "v2_output = f\"../output/v2/{fp_base}_custom_multiscales.zarr\""
   ]
  },
  {
   "cell_type": "code",
   "execution_count": 3,
   "metadata": {},
   "outputs": [],
   "source": [
    "ds = xr.open_dataset(input)"
   ]
  },
  {
   "cell_type": "markdown",
   "metadata": {},
   "source": [
    "## Check that all variables have a CF-compliant standard name\n"
   ]
  },
  {
   "cell_type": "code",
   "execution_count": 4,
   "metadata": {},
   "outputs": [
    {
     "name": "stdout",
     "output_type": "stream",
     "text": [
      "These variables do NOT have a CF-compliant standard name: ['analysis_error', 'mask']\n",
      "These variables have a CF-compliant standard name: ['time', 'lat', 'lon', 'analysed_sst', 'sea_ice_fraction']\n"
     ]
    }
   ],
   "source": [
    "standard_names = ds.cf.standard_names\n",
    "vars_with_standard_names = [v[0] for v in ds.cf.standard_names.values()]\n",
    "compliant_vars = []\n",
    "non_complaint_vars = []\n",
    "for var in ds.variables:\n",
    "    if var not in vars_with_standard_names:\n",
    "        non_complaint_vars.append(var)\n",
    "    else:\n",
    "        compliant_vars.append(var)\n",
    "        assert ds[var].attrs[\"standard_name\"]\n",
    "\n",
    "print(f\"These variables do NOT have a CF-compliant standard name: {non_complaint_vars}\")\n",
    "print(f\"These variables have a CF-compliant standard name: {compliant_vars}\")"
   ]
  },
  {
   "cell_type": "markdown",
   "metadata": {},
   "source": [
    "Not all the variables in this dataset have a CF-compliant standard name. See https://github.com/zarr-developers/geozarr-spec/issues/60 for a recommendation that CF-compliant standard names should be a \"SHOULD\" rather than a \"MUST\" condition in the GeoZarr spec. For now, let's subset to the variables that do use CF-compliant standard names."
   ]
  },
  {
   "cell_type": "code",
   "execution_count": 5,
   "metadata": {},
   "outputs": [],
   "source": [
    "ds = ds[compliant_vars]"
   ]
  },
  {
   "cell_type": "markdown",
   "metadata": {},
   "source": [
    "## Assign CRS information to an auxiliary variable using rioxarray"
   ]
  },
  {
   "cell_type": "code",
   "execution_count": 6,
   "metadata": {},
   "outputs": [],
   "source": [
    "ds = ds.rio.write_crs(\"epsg:4326\")\n",
    "# Specify which variable contains CRS information using grid_mapping\n",
    "for var in ds.data_vars:\n",
    "    ds[var].attrs[\"grid_mapping\"] = \"spatial_ref\""
   ]
  },
  {
   "cell_type": "markdown",
   "metadata": {},
   "source": [
    "## WIP: Define a custom TMS"
   ]
  },
  {
   "cell_type": "code",
   "execution_count": null,
   "metadata": {},
   "outputs": [
    {
     "name": "stdout",
     "output_type": "stream",
     "text": [
      "crs: GEOGCS[\"WGS 84\",DATUM[\"WGS_1984\",SPHEROID[\"WGS 84\",6378137,298.257223563,AUTHORITY[\"EPSG\",\"7030\"]],AUTHORITY[\"EPSG\",\"6326\"]],PRIMEM[\"Greenwich\",0,AUTHORITY[\"EPSG\",\"8901\"]],UNIT[\"degree\",0.0174532925199433,AUTHORITY[\"EPSG\",\"9122\"]],AXIS[\"Latitude\",NORTH],AXIS[\"Longitude\",EAST],AUTHORITY[\"EPSG\",\"4326\"]]\n",
      "bounds: (-179.99500549324037, -89.99499786365084, 180.0050000000763, 89.99499786365084)\n",
      "BoundingBox(left=-179.99500549324037, bottom=-89.99500488285491, right=180.0050000000763, top=89.99499786365084)\n"
     ]
    }
   ],
   "source": [
    "with XarrayReader(ds[var]) as dst_wmq:\n",
    "    pyproj_crs = pyproj.CRS.from_wkt(dst_wmq.crs.to_wkt())\n",
    "    print(f\"crs: {pyproj_crs}\")\n",
    "    bounds = dst_wmq.bounds\n",
    "    print(f\"bounds: {bounds}\")\n",
    "    custom_tms = morecantile.TileMatrixSet.custom(\n",
    "        extent=bounds,\n",
    "        crs=pyproj_crs,\n",
    "        tile_width=ds[var].shape[2],\n",
    "        tile_height=ds[var].shape[1],\n",
    "        minzoom=0,\n",
    "        maxzoom=0,\n",
    "    )\n",
    "    print(custom_tms.bounds(0, 0, 0))"
   ]
  }
 ],
 "metadata": {
  "kernelspec": {
   "display_name": "test",
   "language": "python",
   "name": "python3"
  },
  "language_info": {
   "codemirror_mode": {
    "name": "ipython",
    "version": 3
   },
   "file_extension": ".py",
   "mimetype": "text/x-python",
   "name": "python",
   "nbconvert_exporter": "python",
   "pygments_lexer": "ipython3",
   "version": "3.13.2"
  }
 },
 "nbformat": 4,
 "nbformat_minor": 2
}

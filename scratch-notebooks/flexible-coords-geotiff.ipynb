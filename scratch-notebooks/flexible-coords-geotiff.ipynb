{
 "cells": [
  {
   "cell_type": "markdown",
   "metadata": {},
   "source": [
    "# Try out xproj and flexible coordinates with a GeoTIFF\n",
    "\n",
    "I want to test how easy is it to load a GeoTiff without explicitly loading coordinates using xproj and the new flexible coordinates in xarray."
   ]
  },
  {
   "cell_type": "code",
   "execution_count": null,
   "metadata": {},
   "outputs": [],
   "source": [
    "import hvplot.xarray  # noqa\n",
    "import rioxarray as rx\n",
    "import xproj  # noqa"
   ]
  },
  {
   "cell_type": "markdown",
   "metadata": {},
   "source": [
    "Note: I was a bit surprised that there was not default to use spatial ref, i.e., needing to set the variable name as the keyword or pass a dict required looking at the docs more. I also would like if the output from any of rasterio.CRS.to_X methods were accepted as input to assign_crs."
   ]
  },
  {
   "cell_type": "code",
   "execution_count": null,
   "metadata": {},
   "outputs": [],
   "source": [
    "source = \"../data/forest_aboveground_carbon_flux_ED_ICESat2.tif\"\n",
    "da = rx.open_rasterio(source, parse_coordinates=False).squeeze().drop_vars([\"band\"])\n",
    "da = da.proj.assign_crs(spatial_ref=da.rio.crs.to_string())\n",
    "da.proj.crs"
   ]
  },
  {
   "cell_type": "markdown",
   "metadata": {},
   "source": [
    "It'd be cool to have a geoviz accessor that would accept cartopy, geoviews, pygmt, folium as an \"engine\" and automatically set the projection based on the CRS, or error if it's not accepted"
   ]
  },
  {
   "cell_type": "code",
   "execution_count": null,
   "metadata": {},
   "outputs": [],
   "source": [
    "# Doesn't like the CRS index :(\n",
    "da.hvplot.image()"
   ]
  }
 ],
 "metadata": {
  "kernelspec": {
   "display_name": "test",
   "language": "python",
   "name": "python3"
  },
  "language_info": {
   "codemirror_mode": {
    "name": "ipython",
    "version": 3
   },
   "file_extension": ".py",
   "mimetype": "text/x-python",
   "name": "python",
   "nbconvert_exporter": "python",
   "pygments_lexer": "ipython3",
   "version": "3.13.2"
  }
 },
 "nbformat": 4,
 "nbformat_minor": 2
}
